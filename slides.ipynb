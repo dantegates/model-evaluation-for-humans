{
 "cells": [
  {
   "cell_type": "markdown",
   "metadata": {
    "slideshow": {
     "slide_type": "slide"
    }
   },
   "source": [
    "# Model Evaluation For Humans"
   ]
  },
  {
   "cell_type": "markdown",
   "metadata": {
    "slideshow": {
     "slide_type": "subslide"
    }
   },
   "source": [
    "# About me\n",
    "\n",
    "Husband and Father  \n",
    "Philly data scientist  \n",
    "Wrote a haiku once"
   ]
  },
  {
   "cell_type": "markdown",
   "metadata": {
    "slideshow": {
     "slide_type": "subslide"
    }
   },
   "source": [
    "# Disclaimers\n",
    "\n",
    "- Most useful for new(er) data scientists\n",
    "- But there may be take aways for everyone\n",
    "- Oversimplication\n",
    "- Guidelines/examples are not exhaustive\n",
    "- Breadth not depth\n",
    "- Sometimes the obvious needs to be stated"
   ]
  },
  {
   "cell_type": "markdown",
   "metadata": {
    "slideshow": {
     "slide_type": "subslide"
    }
   },
   "source": [
    "# Goal of this talk\n",
    "\n",
    "Discuss guidelines and practices for robust model evaluation"
   ]
  },
  {
   "cell_type": "markdown",
   "metadata": {
    "slideshow": {
     "slide_type": "subslide"
    }
   },
   "source": [
    "# Outline\n",
    "\n",
    "- Motivation\n",
    "- Before development\n",
    "    - Business & Data Understanding\n",
    "- During development\n",
    "    - Data Preparation $\\rightarrow$ Modeling $\\rightarrow$ Evaluation\n",
    "- Deployment and beyond\n",
    "    - Deployment $\\rightarrow$ Evaluation & Monitoring $\\rightarrow$ Iteration"
   ]
  },
  {
   "cell_type": "markdown",
   "metadata": {
    "slideshow": {
     "slide_type": "slide"
    }
   },
   "source": [
    "# Motivation: all models are wrong"
   ]
  },
  {
   "cell_type": "markdown",
   "metadata": {
    "slideshow": {
     "slide_type": "subslide"
    }
   },
   "source": [
    "\"All models are wrong, ...\"\n",
    "\n",
    "$$\\underset{\\theta}{\\text{arg}\\color{red}{\\text{min}}} \\ \\color{red}{L(}y, \\hat{y}\\color{red}{)}$$\n",
    "\n",
    "$$ML\\color{red}{E} := \\underset{\\theta}{\\text{argmax}} \\ \\pi(D \\ \\vert \\ \\theta)$$\n",
    "\n",
    "$$\\hat{y}=f(x)+\\color{red}{\\epsilon}$$\n",
    "\n",
    "$$\\color{red}{P(\\theta} \\ \\vert \\ D\\color{red}{)} \\propto P(D \\ \\vert  \\ \\theta)P(\\theta)$$"
   ]
  },
  {
   "cell_type": "markdown",
   "metadata": {
    "slideshow": {
     "slide_type": "subslide"
    }
   },
   "source": [
    "# Ask me how I know...\n",
    "![](./images/bad-regression.png)"
   ]
  },
  {
   "cell_type": "markdown",
   "metadata": {
    "slideshow": {
     "slide_type": "subslide"
    }
   },
   "source": [
    "# On a better day... still wrong\n",
    "![](./images/better-regression.png)"
   ]
  },
  {
   "cell_type": "markdown",
   "metadata": {
    "slideshow": {
     "slide_type": "subslide"
    }
   },
   "source": [
    "# The zen of model evaluation\n",
    "\n",
    "\"*All models are wrong, some are useful*\""
   ]
  },
  {
   "cell_type": "markdown",
   "metadata": {
    "slideshow": {
     "slide_type": "subslide"
    }
   },
   "source": [
    "# The zen of model evaluation summarized"
   ]
  },
  {
   "cell_type": "markdown",
   "metadata": {
    "slideshow": {
     "slide_type": "fragment"
    }
   },
   "source": [
    "- All models are wrong"
   ]
  },
  {
   "cell_type": "markdown",
   "metadata": {
    "slideshow": {
     "slide_type": "fragment"
    }
   },
   "source": [
    "- Some are useful"
   ]
  },
  {
   "cell_type": "markdown",
   "metadata": {
    "slideshow": {
     "slide_type": "fragment"
    }
   },
   "source": [
    "- Others are not"
   ]
  },
  {
   "cell_type": "markdown",
   "metadata": {
    "slideshow": {
     "slide_type": "fragment"
    }
   },
   "source": [
    "- Usefulness counts"
   ]
  },
  {
   "cell_type": "markdown",
   "metadata": {
    "slideshow": {
     "slide_type": "slide"
    }
   },
   "source": [
    "# Before development\n",
    "\n",
    "- Highly context specific\n",
    "- Essential for rest of project"
   ]
  },
  {
   "cell_type": "markdown",
   "metadata": {
    "slideshow": {
     "slide_type": "fragment"
    }
   },
   "source": [
    "#### Hazards of getting this wrong\n",
    "\n",
    "- Model does not solve POI\n",
    "- Model indirectly solves POI\n",
    "- Model cannot be evaluated in prod\n",
    "    - Reduced confidence in model\n",
    "- Diminishing returns\n",
    "- Iteration is impaired"
   ]
  },
  {
   "cell_type": "markdown",
   "metadata": {
    "slideshow": {
     "slide_type": "subslide"
    }
   },
   "source": [
    "# Some things to think about..."
   ]
  },
  {
   "cell_type": "markdown",
   "metadata": {
    "slideshow": {
     "slide_type": "subslide"
    }
   },
   "source": [
    "# Think about framing the problem\n",
    "\n",
    "- How will this model be evaluated?\n",
    "- How will success be *measured*?\n",
    "- Is this a classification or regression problem?\n",
    "- Choose metrics and KPIs\n",
    "    - Conversion to business value\n",
    "    - Comparability\n",
    "        - Across time, data, iterations, etc."
   ]
  },
  {
   "cell_type": "markdown",
   "metadata": {
    "slideshow": {
     "slide_type": "subslide"
    }
   },
   "source": [
    "# Think about deployment and future iterations\n",
    "\n",
    "- \"Nothing is more permanent than temporary\"\n",
    "    - Prepare for deployment\n",
    "    - Prepare for future iterations"
   ]
  },
  {
   "cell_type": "markdown",
   "metadata": {
    "slideshow": {
     "slide_type": "subslide"
    }
   },
   "source": [
    "# Think about the feedback loop\n",
    "\n",
    "- How will outcomes from the model be collected?\n",
    "- Example: Ad recommendations\n",
    "- Example: Intervention for hospital readmission\n",
    "    - Is the model that bad or the intervention that good?"
   ]
  },
  {
   "cell_type": "markdown",
   "metadata": {
    "slideshow": {
     "slide_type": "slide"
    }
   },
   "source": [
    "# During development\n",
    "\n",
    "- Most generalizable\n",
    "- Opportunity adopt and standardize best practices"
   ]
  },
  {
   "cell_type": "markdown",
   "metadata": {
    "slideshow": {
     "slide_type": "subslide"
    }
   },
   "source": [
    "# Test assumptions\n",
    "\n",
    "- $f(🗑) = 🗑$\n",
    "- Check distributions of data\n",
    "- Plot, plot, plot\n",
    "- Check features against conventional wisdom\n",
    "- Etc."
   ]
  },
  {
   "cell_type": "markdown",
   "metadata": {
    "slideshow": {
     "slide_type": "subslide"
    }
   },
   "source": [
    "# Testing assumptions: Example\n",
    "\n",
    "![](./images/actual-vs-expected-dist.png)"
   ]
  },
  {
   "cell_type": "markdown",
   "metadata": {
    "slideshow": {
     "slide_type": "subslide"
    }
   },
   "source": [
    "# Test assumptions: Example\n",
    "\n",
    "<img src=\"./images/trace.png\" width=1200>"
   ]
  },
  {
   "cell_type": "markdown",
   "metadata": {
    "slideshow": {
     "slide_type": "subslide"
    }
   },
   "source": [
    "# Establish a baseline\n",
    "\n",
    "A good baseline is\n",
    "\n",
    "- Easy to implement\n",
    "- Easy to understand"
   ]
  },
  {
   "cell_type": "markdown",
   "metadata": {
    "slideshow": {
     "slide_type": "subslide"
    }
   },
   "source": [
    "# Examples of baselines\n",
    "\n",
    "- A simple heuristic\n",
    "    - Example: Persistency"
   ]
  },
  {
   "cell_type": "markdown",
   "metadata": {
    "slideshow": {
     "slide_type": "fragment"
    }
   },
   "source": [
    "- An interpretable model\n",
    "    - Example: Comorbidities"
   ]
  },
  {
   "cell_type": "markdown",
   "metadata": {
    "slideshow": {
     "slide_type": "fragment"
    }
   },
   "source": [
    "- The existing model or methodology"
   ]
  },
  {
   "cell_type": "markdown",
   "metadata": {
    "slideshow": {
     "slide_type": "fragment"
    }
   },
   "source": [
    "- Acceptance criteria"
   ]
  },
  {
   "cell_type": "markdown",
   "metadata": {
    "slideshow": {
     "slide_type": "subslide"
    }
   },
   "source": [
    "# Cross validation\n",
    "\n",
    "Replicate the deployment pattern\n",
    "- Avoid leakage from future examples\n",
    "- More like backtesting, less like $K$-fold CV\n",
    "    - Train on Jan. predict on Feb.\n",
    "    - Train on Feb. predict on Mar."
   ]
  },
  {
   "cell_type": "markdown",
   "metadata": {
    "slideshow": {
     "slide_type": "subslide"
    }
   },
   "source": [
    "# Train on a cleaner data set\n",
    "\n",
    "- Validate modeling approach apart from noise in data set\n",
    "    - Example: Ratings"
   ]
  },
  {
   "cell_type": "markdown",
   "metadata": {
    "slideshow": {
     "slide_type": "slide"
    }
   },
   "source": [
    "# Deployment and beyond\n",
    "\n",
    "- This is what really matters (Remember the Zen!)\n",
    "- Ensure that your model is (and stays) useful!\n",
    "- Iterate with confidence!"
   ]
  },
  {
   "cell_type": "markdown",
   "metadata": {
    "slideshow": {
     "slide_type": "subslide"
    }
   },
   "source": [
    "# Why A/B testing?\n",
    "![](./images/production-error.png)"
   ]
  },
  {
   "cell_type": "markdown",
   "metadata": {
    "slideshow": {
     "slide_type": "subslide"
    }
   },
   "source": [
    "# Monitoring: \n",
    "\n",
    "- Keep it simple and actionable\n",
    "    - Example: Favor Range over KL Divergence"
   ]
  },
  {
   "cell_type": "markdown",
   "metadata": {
    "slideshow": {
     "slide_type": "fragment"
    }
   },
   "source": [
    "- Reuse sanity checks from development    "
   ]
  },
  {
   "cell_type": "markdown",
   "metadata": {
    "slideshow": {
     "slide_type": "slide"
    }
   },
   "source": [
    "# Conclusion\n",
    "\n",
    "- Hopefully you have some take aways\n",
    "- Share your suggestions!\n",
    "- https://dantegates.github.io/2019/01/07/model-evaluation-for-humans.html"
   ]
  },
  {
   "cell_type": "markdown",
   "metadata": {
    "slideshow": {
     "slide_type": "subslide"
    }
   },
   "source": [
    "# Questions?"
   ]
  }
 ],
 "metadata": {
  "celltoolbar": "Slideshow",
  "kernelspec": {
   "display_name": "Python 3",
   "language": "python",
   "name": "python3"
  },
  "language_info": {
   "codemirror_mode": {
    "name": "ipython",
    "version": 3
   },
   "file_extension": ".py",
   "mimetype": "text/x-python",
   "name": "python",
   "nbconvert_exporter": "python",
   "pygments_lexer": "ipython3",
   "version": "3.6.2"
  }
 },
 "nbformat": 4,
 "nbformat_minor": 2
}
