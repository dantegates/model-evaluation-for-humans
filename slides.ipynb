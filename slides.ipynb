{
 "cells": [
  {
   "cell_type": "markdown",
   "metadata": {
    "slideshow": {
     "slide_type": "slide"
    }
   },
   "source": [
    "# Model Evaluation For Humans"
   ]
  },
  {
   "cell_type": "markdown",
   "metadata": {
    "slideshow": {
     "slide_type": "subslide"
    }
   },
   "source": [
    "# About me\n",
    "\n",
    "Husband and Father  \n",
    "Philly data scientist  \n",
    "Wrote a haiku once\n",
    "\n",
    "\\- https://dantegates.github.io/"
   ]
  },
  {
   "cell_type": "markdown",
   "metadata": {
    "slideshow": {
     "slide_type": "subslide"
    }
   },
   "source": [
    "# Disclaimers\n",
    "\n",
    "- most useful for new(er) data scientists\n",
    "- but there may be take aways for everyone\n",
    "- oversimplication\n",
    "- guidelines/examples are not exhaustive\n",
    "- breadth not depth\n",
    "- ask me how I know..."
   ]
  },
  {
   "cell_type": "markdown",
   "metadata": {
    "slideshow": {
     "slide_type": "skip"
    }
   },
   "source": [
    "# About you"
   ]
  },
  {
   "cell_type": "markdown",
   "metadata": {
    "slideshow": {
     "slide_type": "skip"
    }
   },
   "source": [
    "- How many data scientists in room?"
   ]
  },
  {
   "cell_type": "markdown",
   "metadata": {
    "slideshow": {
     "slide_type": "skip"
    }
   },
   "source": [
    "- How many are relatively new to data science?"
   ]
  },
  {
   "cell_type": "markdown",
   "metadata": {
    "slideshow": {
     "slide_type": "skip"
    }
   },
   "source": [
    "- Who has deployed a model to production?"
   ]
  },
  {
   "cell_type": "markdown",
   "metadata": {
    "slideshow": {
     "slide_type": "skip"
    }
   },
   "source": [
    "- More than one?"
   ]
  },
  {
   "cell_type": "markdown",
   "metadata": {
    "slideshow": {
     "slide_type": "skip"
    }
   },
   "source": [
    "- Team has best practices for evaluations?"
   ]
  },
  {
   "cell_type": "markdown",
   "metadata": {
    "slideshow": {
     "slide_type": "skip"
    }
   },
   "source": [
    "- Who has best practices for deployments?"
   ]
  },
  {
   "cell_type": "markdown",
   "metadata": {
    "slideshow": {
     "slide_type": "slide"
    }
   },
   "source": [
    "# Goal of this talk\n",
    "\n",
    "Discuss guidelines and practices for model evaluation"
   ]
  },
  {
   "cell_type": "markdown",
   "metadata": {
    "slideshow": {
     "slide_type": "slide"
    }
   },
   "source": [
    "# Motivation: all models are wrong"
   ]
  },
  {
   "cell_type": "markdown",
   "metadata": {
    "slideshow": {
     "slide_type": "subslide"
    }
   },
   "source": [
    "\"All models are wrong, ...\"\n",
    "\n",
    "$$\\underset{\\theta}{\\text{arg}\\color{red}{\\text{min}}} \\ \\color{red}{L(}y, \\hat{y}\\color{red}{)}$$\n",
    "\n",
    "$$ML\\color{red}{E} := \\underset{\\theta}{\\text{argmax}} \\ \\pi(D \\ \\vert \\ \\theta)$$\n",
    "\n",
    "$$\\hat{y}=f(x)+\\color{red}{\\epsilon}$$\n",
    "\n",
    "$$\\color{red}{P(\\theta} \\ \\vert \\ D\\color{red}{)} \\propto P(D \\ \\vert  \\ \\theta)P(\\theta)$$"
   ]
  },
  {
   "cell_type": "markdown",
   "metadata": {
    "slideshow": {
     "slide_type": "subslide"
    }
   },
   "source": [
    "# Ask me how I know...\n",
    "![](./images/bad-regression.png)"
   ]
  },
  {
   "cell_type": "markdown",
   "metadata": {
    "slideshow": {
     "slide_type": "subslide"
    }
   },
   "source": [
    "# On a better day... still wrong\n",
    "![](./images/better-regression.png)"
   ]
  },
  {
   "cell_type": "markdown",
   "metadata": {
    "slideshow": {
     "slide_type": "subslide"
    }
   },
   "source": [
    "# The zen of model evaluation\n",
    "\n",
    "\"*All models are wrong, some are useful*\""
   ]
  },
  {
   "cell_type": "markdown",
   "metadata": {
    "slideshow": {
     "slide_type": "subslide"
    }
   },
   "source": [
    "# The zen of model evaluation summarized"
   ]
  },
  {
   "cell_type": "markdown",
   "metadata": {
    "slideshow": {
     "slide_type": "fragment"
    }
   },
   "source": [
    "- All models are wrong"
   ]
  },
  {
   "cell_type": "markdown",
   "metadata": {
    "slideshow": {
     "slide_type": "fragment"
    }
   },
   "source": [
    "- Some are useful"
   ]
  },
  {
   "cell_type": "markdown",
   "metadata": {
    "slideshow": {
     "slide_type": "fragment"
    }
   },
   "source": [
    "- Others are not"
   ]
  },
  {
   "cell_type": "markdown",
   "metadata": {
    "slideshow": {
     "slide_type": "fragment"
    }
   },
   "source": [
    "- Usefulness matters"
   ]
  },
  {
   "cell_type": "markdown",
   "metadata": {
    "slideshow": {
     "slide_type": "fragment"
    }
   },
   "source": [
    "- Uselessness does not"
   ]
  },
  {
   "cell_type": "markdown",
   "metadata": {
    "slideshow": {
     "slide_type": "slide"
    }
   },
   "source": [
    "# Model evaluation and the product lifecycle\n",
    "\n",
    "- Before development\n",
    "    - Business & Data Understanding\n",
    "- During development\n",
    "    - Data Preparation $\\rightarrow$ Modeling $\\rightarrow$ Evaluation\n",
    "- Deployment and beyond\n",
    "    - Deployment $\\rightarrow$ Evaluation & Monitoring $\\rightarrow$ Iteration"
   ]
  },
  {
   "cell_type": "markdown",
   "metadata": {
    "slideshow": {
     "slide_type": "slide"
    }
   },
   "source": [
    "# Before development\n",
    "\n",
    "- Highly context specific\n",
    "- Essential for rest of project"
   ]
  },
  {
   "cell_type": "markdown",
   "metadata": {
    "slideshow": {
     "slide_type": "fragment"
    }
   },
   "source": [
    "### Why do we need to get this right?\n",
    "\n",
    "- Model does not solve POI\n",
    "- Model indirectly solves POI\n",
    "- Model cannot be evaluated in prod\n",
    "- Exhausted resources yield low return\n",
    "- Impeded iteration\n",
    "- Diminished confidence in model"
   ]
  },
  {
   "cell_type": "markdown",
   "metadata": {
    "slideshow": {
     "slide_type": "subslide"
    }
   },
   "source": [
    "# Some things to think about..."
   ]
  },
  {
   "cell_type": "markdown",
   "metadata": {
    "slideshow": {
     "slide_type": "subslide"
    }
   },
   "source": [
    "# Think about framing the problem\n",
    "\n",
    "- How will this model be evaluated?\n",
    "- How will success be *measured*?\n",
    "- Choose metrics carefully (more on this later, ... maybe)"
   ]
  },
  {
   "cell_type": "markdown",
   "metadata": {
    "slideshow": {
     "slide_type": "subslide"
    }
   },
   "source": [
    "# Think about deployment and future iterations\n",
    "\n",
    "- Prepare for deployment\n",
    "- Prepare for future iterations\n",
    "- Nothing is more permanent than temporary\n",
    "- Example: A/B testing"
   ]
  },
  {
   "cell_type": "markdown",
   "metadata": {
    "slideshow": {
     "slide_type": "subslide"
    }
   },
   "source": [
    "# Think about the feedback loop\n",
    "\n",
    "- How will outcomes from the model be collected?\n",
    "- Example: Filtered predictions\n",
    "- Example: Ad recommendations\n",
    "- Example: Intervention for hospital readmission"
   ]
  },
  {
   "cell_type": "markdown",
   "metadata": {
    "slideshow": {
     "slide_type": "slide"
    }
   },
   "source": [
    "# During development\n",
    "\n",
    "- Most generalizable\n",
    "- Opportunity adopt and standardize best practices"
   ]
  },
  {
   "cell_type": "markdown",
   "metadata": {
    "slideshow": {
     "slide_type": "subslide"
    }
   },
   "source": [
    "# Test assumptions\n",
    "\n",
    "- Check distributions of data\n",
    "- Plot, plot, plot\n",
    "- Check features against conventional wisdom\n",
    "- Etc.\n",
    "- $f(🗑) = 🗑$\n",
    "- Example: `pymc3` traceplot"
   ]
  },
  {
   "cell_type": "markdown",
   "metadata": {
    "slideshow": {
     "slide_type": "subslide"
    }
   },
   "source": [
    "# Establish a baseline\n",
    "\n",
    "A good baseline is\n",
    "\n",
    "- Easy to implement\n",
    "- Easy to understand"
   ]
  },
  {
   "cell_type": "markdown",
   "metadata": {
    "slideshow": {
     "slide_type": "subslide"
    }
   },
   "source": [
    "# Examples of baselines\n",
    "\n",
    "- A simple heuristic\n",
    "    - Example: Ratings\n",
    "    - Example: Persistency"
   ]
  },
  {
   "cell_type": "markdown",
   "metadata": {
    "slideshow": {
     "slide_type": "fragment"
    }
   },
   "source": [
    "- An interpretable model\n",
    "    - Example: Comorbidities"
   ]
  },
  {
   "cell_type": "markdown",
   "metadata": {
    "slideshow": {
     "slide_type": "fragment"
    }
   },
   "source": [
    "- The existing model or methodology"
   ]
  },
  {
   "cell_type": "markdown",
   "metadata": {
    "slideshow": {
     "slide_type": "fragment"
    }
   },
   "source": [
    "- Acceptance criteria"
   ]
  },
  {
   "cell_type": "markdown",
   "metadata": {
    "slideshow": {
     "slide_type": "subslide"
    }
   },
   "source": [
    "# Sanity Checks\n",
    "\n",
    "- Inspecting learned parameters\n",
    "    - Example: Comorbidities"
   ]
  },
  {
   "cell_type": "markdown",
   "metadata": {
    "slideshow": {
     "slide_type": "fragment"
    }
   },
   "source": [
    "- Examining outliers in the model error"
   ]
  },
  {
   "cell_type": "markdown",
   "metadata": {
    "slideshow": {
     "slide_type": "fragment"
    }
   },
   "source": [
    "- Algorithm specific assumptions"
   ]
  },
  {
   "cell_type": "markdown",
   "metadata": {
    "slideshow": {
     "slide_type": "fragment"
    }
   },
   "source": [
    "- Examine range of predictions"
   ]
  },
  {
   "cell_type": "markdown",
   "metadata": {
    "slideshow": {
     "slide_type": "subslide"
    }
   },
   "source": [
    "# Cross validation\n",
    "\n",
    "Replicate the deployment pattern\n",
    "- Avoid leakage from future examples\n",
    "- More like backtesting, less like $K$-fold CV"
   ]
  },
  {
   "cell_type": "markdown",
   "metadata": {
    "slideshow": {
     "slide_type": "fragment"
    }
   },
   "source": [
    "```python\n",
    "months = list(df.groupby('month'))\n",
    "for (m1, df1), (m2, df2) in zip(months, months[1:]):\n",
    "    X_train, y_train = df1[features], df1[response]\n",
    "    X_test, y_test = df2[features], df2[response]\n",
    "```"
   ]
  },
  {
   "cell_type": "markdown",
   "metadata": {
    "slideshow": {
     "slide_type": "subslide"
    }
   },
   "source": [
    "# Train on a cleaner data set\n",
    "\n",
    "- Validate modeling approach apart from noise in data set\n",
    "    - Example: Ratings"
   ]
  },
  {
   "cell_type": "markdown",
   "metadata": {
    "slideshow": {
     "slide_type": "slide"
    }
   },
   "source": [
    "# Deployment and beyond\n",
    "\n",
    "- This is what really matters (Remember the Zen!)\n",
    "- Ensure that your model is (and stays) useful!\n",
    "- Iterate with confidence!"
   ]
  },
  {
   "cell_type": "markdown",
   "metadata": {
    "slideshow": {
     "slide_type": "subslide"
    }
   },
   "source": [
    "# A/B testing\n",
    "\n",
    "![](./images/classification-reports.png)"
   ]
  },
  {
   "cell_type": "markdown",
   "metadata": {
    "slideshow": {
     "slide_type": "subslide"
    }
   },
   "source": [
    "# A/B testing\n",
    "![](./images/production-error.png)"
   ]
  },
  {
   "cell_type": "markdown",
   "metadata": {
    "slideshow": {
     "slide_type": "subslide"
    }
   },
   "source": [
    "# Monitoring: Covariate shift\n",
    "\n",
    "- Check for deviations in run time data\n",
    "- Keep it simple\n",
    "- Keep it actionable"
   ]
  },
  {
   "cell_type": "markdown",
   "metadata": {
    "slideshow": {
     "slide_type": "subslide"
    }
   },
   "source": [
    "# Monitoring: Sanity checks\n",
    "\n",
    "- Remember me?"
   ]
  },
  {
   "cell_type": "markdown",
   "metadata": {
    "slideshow": {
     "slide_type": "slide"
    }
   },
   "source": [
    "# A word on metrics\n",
    "\n",
    "- Conversion to business value\n",
    "- Comparability\n",
    "    - Across time, data, iterations, etc."
   ]
  },
  {
   "cell_type": "markdown",
   "metadata": {
    "slideshow": {
     "slide_type": "slide"
    }
   },
   "source": [
    "# Conclusion\n",
    "\n",
    "- Hopefully you have some take aways\n",
    "- Share your suggestions!"
   ]
  },
  {
   "cell_type": "markdown",
   "metadata": {
    "slideshow": {
     "slide_type": "subslide"
    }
   },
   "source": [
    "# Questions?"
   ]
  }
 ],
 "metadata": {
  "celltoolbar": "Slideshow",
  "kernelspec": {
   "display_name": "Python 3",
   "language": "python",
   "name": "python3"
  },
  "language_info": {
   "codemirror_mode": {
    "name": "ipython",
    "version": 3
   },
   "file_extension": ".py",
   "mimetype": "text/x-python",
   "name": "python",
   "nbconvert_exporter": "python",
   "pygments_lexer": "ipython3",
   "version": "3.6.2"
  }
 },
 "nbformat": 4,
 "nbformat_minor": 2
}
